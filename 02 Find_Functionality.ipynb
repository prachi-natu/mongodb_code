{
 "cells": [
  {
   "cell_type": "markdown",
   "id": "e5fbb279",
   "metadata": {},
   "source": [
    "# MongoDB Insert Functionality\n",
    "\n",
    "Go over how to use the various insert functions of the pymongo module. "
   ]
  },
  {
   "cell_type": "markdown",
   "id": "60d041b0",
   "metadata": {},
   "source": [
    "### Import MongoClient instance from pymongo module"
   ]
  },
  {
   "cell_type": "code",
   "execution_count": 1,
   "id": "238478b5",
   "metadata": {},
   "outputs": [],
   "source": [
    "import pymongo\n",
    "from pymongo import MongoClient"
   ]
  },
  {
   "cell_type": "markdown",
   "id": "8cfcc669",
   "metadata": {},
   "source": [
    "### Initalize A Client, Connect To DB, Speicfy Collection"
   ]
  },
  {
   "cell_type": "code",
   "execution_count": 2,
   "id": "06a8d1bd",
   "metadata": {},
   "outputs": [],
   "source": [
    "my_client=MongoClient(\"mongodb://localhost:27017/\")"
   ]
  },
  {
   "cell_type": "code",
   "execution_count": 3,
   "id": "6fe3ae2b",
   "metadata": {},
   "outputs": [
    {
     "data": {
      "text/plain": [
       "['admin', 'config', 'employee', 'employee1', 'inventory', 'local', 'students']"
      ]
     },
     "execution_count": 3,
     "metadata": {},
     "output_type": "execute_result"
    }
   ],
   "source": [
    "my_client.list_database_names()"
   ]
  },
  {
   "cell_type": "code",
   "execution_count": 4,
   "id": "7334937d",
   "metadata": {},
   "outputs": [],
   "source": [
    "db=my_client[\"employee\"]\n",
    "my_col=db[\"collection\"]"
   ]
  },
  {
   "cell_type": "markdown",
   "id": "f5e0e553",
   "metadata": {},
   "source": [
    "### find_one()"
   ]
  },
  {
   "cell_type": "code",
   "execution_count": 6,
   "id": "6ffba480",
   "metadata": {},
   "outputs": [
    {
     "data": {
      "text/plain": [
       "{'_id': ObjectId('6361efc6c84fc28f43c94327'),\n",
       " 'fname': 'Prachi',\n",
       " 'lname': 'Natu',\n",
       " 'salary': 200000}"
      ]
     },
     "execution_count": 6,
     "metadata": {},
     "output_type": "execute_result"
    }
   ],
   "source": [
    "my_col.find_one({\"fname\":\"Prachi\"}) # case sensitive"
   ]
  },
  {
   "cell_type": "code",
   "execution_count": 7,
   "id": "bf11ed1f",
   "metadata": {},
   "outputs": [
    {
     "data": {
      "text/plain": [
       "<pymongo.cursor.Cursor at 0x24f7bbc2dc0>"
      ]
     },
     "execution_count": 7,
     "metadata": {},
     "output_type": "execute_result"
    }
   ],
   "source": []
  },
  {
   "cell_type": "code",
   "execution_count": 8,
   "id": "5ab841b2",
   "metadata": {},
   "outputs": [
    {
     "data": {
      "text/plain": [
       "<pymongo.cursor.Cursor at 0x24f7bbc2a90>"
      ]
     },
     "execution_count": 8,
     "metadata": {},
     "output_type": "execute_result"
    }
   ],
   "source": []
  },
  {
   "cell_type": "code",
   "execution_count": 9,
   "id": "e72051bd",
   "metadata": {},
   "outputs": [
    {
     "name": "stdout",
     "output_type": "stream",
     "text": [
      "{'_id': ObjectId('6361efc6c84fc28f43c94327'), 'fname': 'Prachi', 'lname': 'Natu', 'salary': 200000}\n"
     ]
    }
   ],
   "source": []
  },
  {
   "cell_type": "markdown",
   "id": "18866bfa",
   "metadata": {},
   "source": [
    "### find() and Cursors"
   ]
  },
  {
   "cell_type": "code",
   "execution_count": 10,
   "id": "ed20031b",
   "metadata": {},
   "outputs": [
    {
     "data": {
      "text/plain": [
       "<pymongo.cursor.Cursor at 0x24f7bbc2c70>"
      ]
     },
     "execution_count": 10,
     "metadata": {},
     "output_type": "execute_result"
    }
   ],
   "source": [
    "my_col.find({\"fname\":\"Prachi\"})"
   ]
  },
  {
   "cell_type": "code",
   "execution_count": 11,
   "id": "7b094cab",
   "metadata": {},
   "outputs": [
    {
     "data": {
      "text/plain": [
       "<pymongo.cursor.Cursor at 0x24f7bbd4700>"
      ]
     },
     "execution_count": 11,
     "metadata": {},
     "output_type": "execute_result"
    }
   ],
   "source": [
    "my_cursor=my_col.find({\"fname\":\"Prachi\"}) # cursor points to memory location of document one by one\n",
    "my_cursor"
   ]
  },
  {
   "cell_type": "code",
   "execution_count": 12,
   "id": "eb8232a2",
   "metadata": {},
   "outputs": [
    {
     "name": "stdout",
     "output_type": "stream",
     "text": [
      "{'_id': ObjectId('6361efc6c84fc28f43c94327'), 'fname': 'Prachi', 'lname': 'Natu', 'salary': 200000}\n"
     ]
    }
   ],
   "source": [
    "for document in my_cursor:\n",
    "    print(document) "
   ]
  },
  {
   "cell_type": "code",
   "execution_count": 13,
   "id": "1a031993",
   "metadata": {},
   "outputs": [
    {
     "data": {
      "text/plain": [
       "False"
      ]
     },
     "execution_count": 13,
     "metadata": {},
     "output_type": "execute_result"
    }
   ],
   "source": [
    "my_cursor.alive # cursor reached end of the documents specified by 'find' method in collection"
   ]
  },
  {
   "cell_type": "code",
   "execution_count": 14,
   "id": "5f42ffb8",
   "metadata": {},
   "outputs": [
    {
     "data": {
      "text/plain": [
       "<pymongo.cursor.Cursor at 0x24f796c6100>"
      ]
     },
     "execution_count": 14,
     "metadata": {},
     "output_type": "execute_result"
    }
   ],
   "source": [
    "my_cursor=my_col.find({\"fname\":\"Prachi\"}) # cursor points to memory location of document one by one\n",
    "my_cursor"
   ]
  },
  {
   "cell_type": "code",
   "execution_count": 15,
   "id": "52100a58",
   "metadata": {},
   "outputs": [
    {
     "data": {
      "text/plain": [
       "True"
      ]
     },
     "execution_count": 15,
     "metadata": {},
     "output_type": "execute_result"
    }
   ],
   "source": [
    "my_cursor.alive"
   ]
  },
  {
   "cell_type": "code",
   "execution_count": null,
   "id": "e3ecc022",
   "metadata": {},
   "outputs": [],
   "source": []
  },
  {
   "cell_type": "markdown",
   "id": "963b34c2",
   "metadata": {},
   "source": [
    "### sort()"
   ]
  },
  {
   "cell_type": "code",
   "execution_count": 16,
   "id": "27049bfe",
   "metadata": {},
   "outputs": [
    {
     "name": "stdout",
     "output_type": "stream",
     "text": [
      "{'_id': ObjectId('639059624e83670ac3c7c42f'), 'fname': 'pqr', 'lname': 'qqq', 'salary': 45000}\n",
      "{'_id': ObjectId('6361f0b2c84fc28f43c9432a'), 'fname': 'xyz', 'lname': 'www', 'salary': 50000}\n",
      "{'_id': ObjectId('6361f0b2c84fc28f43c94329'), 'fname': 'abc', 'lname': 'awe', 'salary': 100000}\n",
      "{'_id': ObjectId('6361efc6c84fc28f43c94327'), 'fname': 'Prachi', 'lname': 'Natu', 'salary': 200000}\n",
      "{'_id': ObjectId('6361f0b2c84fc28f43c94328'), 'fname': 'Anand', 'lname': 'Khandekar', 'salary': 200000}\n",
      "{'_id': ObjectId('638c8a699ecc97815ce8f555'), 'fname': 'abcd', 'lname': 'asdf', 'salary': '25000'}\n",
      "{'_id': ObjectId('638f26289ecc97815ce8f557'), 'fname': 'lata', 'lname': 'Rao', 'salary': '30000'}\n"
     ]
    }
   ],
   "source": [
    "for document in my_col.find({}).sort(\"salary\",pymongo.ASCENDING):\n",
    "    print(document)"
   ]
  },
  {
   "cell_type": "code",
   "execution_count": 17,
   "id": "29366fdd",
   "metadata": {},
   "outputs": [
    {
     "name": "stdout",
     "output_type": "stream",
     "text": [
      "{'_id': ObjectId('638f26289ecc97815ce8f557'), 'fname': 'lata', 'lname': 'Rao', 'salary': '30000'}\n",
      "{'_id': ObjectId('638c8a699ecc97815ce8f555'), 'fname': 'abcd', 'lname': 'asdf', 'salary': '25000'}\n",
      "{'_id': ObjectId('6361efc6c84fc28f43c94327'), 'fname': 'Prachi', 'lname': 'Natu', 'salary': 200000}\n",
      "{'_id': ObjectId('6361f0b2c84fc28f43c94328'), 'fname': 'Anand', 'lname': 'Khandekar', 'salary': 200000}\n",
      "{'_id': ObjectId('6361f0b2c84fc28f43c94329'), 'fname': 'abc', 'lname': 'awe', 'salary': 100000}\n",
      "{'_id': ObjectId('6361f0b2c84fc28f43c9432a'), 'fname': 'xyz', 'lname': 'www', 'salary': 50000}\n",
      "{'_id': ObjectId('639059624e83670ac3c7c42f'), 'fname': 'pqr', 'lname': 'qqq', 'salary': 45000}\n"
     ]
    }
   ],
   "source": [
    "for document in my_col.find({}).sort(\"salary\",pymongo.DESCENDING):\n",
    "    print(document)"
   ]
  },
  {
   "cell_type": "code",
   "execution_count": 19,
   "id": "4426d062",
   "metadata": {},
   "outputs": [
    {
     "name": "stdout",
     "output_type": "stream",
     "text": [
      "{'_id': ObjectId('639059624e83670ac3c7c42f'), 'fname': 'pqr', 'lname': 'qqq', 'salary': 45000}\n",
      "{'_id': ObjectId('6361f0b2c84fc28f43c9432a'), 'fname': 'xyz', 'lname': 'www', 'salary': 50000}\n",
      "{'_id': ObjectId('6361f0b2c84fc28f43c94329'), 'fname': 'abc', 'lname': 'awe', 'salary': 100000}\n",
      "{'_id': ObjectId('6361f0b2c84fc28f43c94328'), 'fname': 'Anand', 'lname': 'Khandekar', 'salary': 200000}\n",
      "{'_id': ObjectId('6361efc6c84fc28f43c94327'), 'fname': 'Prachi', 'lname': 'Natu', 'salary': 200000}\n",
      "{'_id': ObjectId('638c8a699ecc97815ce8f555'), 'fname': 'abcd', 'lname': 'asdf', 'salary': '25000'}\n",
      "{'_id': ObjectId('638f26289ecc97815ce8f557'), 'fname': 'lata', 'lname': 'Rao', 'salary': '30000'}\n"
     ]
    }
   ],
   "source": [
    "for document in my_col.find({}).sort(\n",
    "    [(\"salary\",pymongo.ASCENDING),\n",
    "    (\"fname\",pymongo.ASCENDING)]):\n",
    "    print(document)"
   ]
  },
  {
   "cell_type": "code",
   "execution_count": null,
   "id": "8265f9d5",
   "metadata": {},
   "outputs": [],
   "source": []
  },
  {
   "cell_type": "code",
   "execution_count": null,
   "id": "c4860df5",
   "metadata": {},
   "outputs": [],
   "source": []
  },
  {
   "cell_type": "code",
   "execution_count": null,
   "id": "42b05035",
   "metadata": {},
   "outputs": [],
   "source": []
  },
  {
   "cell_type": "markdown",
   "id": "e07efb52",
   "metadata": {},
   "source": [
    "### skip() and limit()"
   ]
  },
  {
   "cell_type": "code",
   "execution_count": 20,
   "id": "711f746f",
   "metadata": {},
   "outputs": [
    {
     "name": "stdout",
     "output_type": "stream",
     "text": [
      "{'_id': ObjectId('6361efc6c84fc28f43c94327'), 'fname': 'Prachi', 'lname': 'Natu', 'salary': 200000}\n",
      "{'_id': ObjectId('6361f0b2c84fc28f43c94328'), 'fname': 'Anand', 'lname': 'Khandekar', 'salary': 200000}\n",
      "{'_id': ObjectId('6361f0b2c84fc28f43c94329'), 'fname': 'abc', 'lname': 'awe', 'salary': 100000}\n"
     ]
    }
   ],
   "source": [
    "for document in my_col.find({}).limit(3): # print first 3 entries\n",
    "    print(document)"
   ]
  },
  {
   "cell_type": "code",
   "execution_count": 21,
   "id": "55774464",
   "metadata": {},
   "outputs": [
    {
     "name": "stdout",
     "output_type": "stream",
     "text": [
      "{'_id': ObjectId('6361f0b2c84fc28f43c9432a'), 'fname': 'xyz', 'lname': 'www', 'salary': 50000}\n",
      "{'_id': ObjectId('638c8a699ecc97815ce8f555'), 'fname': 'abcd', 'lname': 'asdf', 'salary': '25000'}\n",
      "{'_id': ObjectId('638f26289ecc97815ce8f557'), 'fname': 'lata', 'lname': 'Rao', 'salary': '30000'}\n",
      "{'_id': ObjectId('639059624e83670ac3c7c42f'), 'fname': 'pqr', 'lname': 'qqq', 'salary': 45000}\n"
     ]
    }
   ],
   "source": [
    "for document in my_col.find({}).skip(3): # skip first 3 documents\n",
    "    print(document)"
   ]
  },
  {
   "cell_type": "code",
   "execution_count": 23,
   "id": "d7a563b6",
   "metadata": {},
   "outputs": [
    {
     "name": "stdout",
     "output_type": "stream",
     "text": [
      "\n",
      "--page1--\n",
      "{'_id': ObjectId('6361efc6c84fc28f43c94327'), 'fname': 'Prachi', 'lname': 'Natu', 'salary': 200000}\n",
      "{'_id': ObjectId('6361f0b2c84fc28f43c94328'), 'fname': 'Anand', 'lname': 'Khandekar', 'salary': 200000}\n",
      "{'_id': ObjectId('6361f0b2c84fc28f43c94329'), 'fname': 'abc', 'lname': 'awe', 'salary': 100000}\n",
      "\n",
      "--page2--\n",
      "{'_id': ObjectId('6361f0b2c84fc28f43c9432a'), 'fname': 'xyz', 'lname': 'www', 'salary': 50000}\n",
      "{'_id': ObjectId('638c8a699ecc97815ce8f555'), 'fname': 'abcd', 'lname': 'asdf', 'salary': '25000'}\n",
      "{'_id': ObjectId('638f26289ecc97815ce8f557'), 'fname': 'lata', 'lname': 'Rao', 'salary': '30000'}\n"
     ]
    }
   ],
   "source": [
    "page_limit =3\n",
    "for page_num in [1,2]:\n",
    "    print(\"\\n--page{}--\".format(page_num))\n",
    "    for document in my_col.find({}).skip((page_num-1)*page_limit).limit(page_limit):\n",
    "        print(document)"
   ]
  },
  {
   "cell_type": "markdown",
   "id": "fd76f71a",
   "metadata": {},
   "source": [
    "### cursor.count() vs collection.count_documents()"
   ]
  },
  {
   "cell_type": "code",
   "execution_count": 26,
   "id": "c6eef034",
   "metadata": {},
   "outputs": [],
   "source": [
    "find_query_filter = {\"fname\": \"Prachi\"}\n",
    "find_cursor = my_col.find(find_query_filter)"
   ]
  },
  {
   "cell_type": "code",
   "execution_count": 28,
   "id": "9d86707f",
   "metadata": {},
   "outputs": [
    {
     "data": {
      "text/plain": [
       "<pymongo.cursor.Cursor at 0x24f7bbd40a0>"
      ]
     },
     "execution_count": 28,
     "metadata": {},
     "output_type": "execute_result"
    }
   ],
   "source": [
    "find_cursor"
   ]
  },
  {
   "cell_type": "code",
   "execution_count": 30,
   "id": "1a0b5b9c",
   "metadata": {},
   "outputs": [
    {
     "ename": "AttributeError",
     "evalue": "'Cursor' object has no attribute 'count'",
     "output_type": "error",
     "traceback": [
      "\u001b[1;31m---------------------------------------------------------------------------\u001b[0m",
      "\u001b[1;31mAttributeError\u001b[0m                            Traceback (most recent call last)",
      "\u001b[1;32md:\\python_code\\mongodb_code\\Find_Functionality_(Template).ipynb Cell 35\u001b[0m in \u001b[0;36m<cell line: 1>\u001b[1;34m()\u001b[0m\n\u001b[1;32m----> <a href='vscode-notebook-cell:/d%3A/python_code/mongodb_code/Find_Functionality_%28Template%29.ipynb#X42sZmlsZQ%3D%3D?line=0'>1</a>\u001b[0m find_cursor\u001b[39m.\u001b[39;49mcount\n",
      "\u001b[1;31mAttributeError\u001b[0m: 'Cursor' object has no attribute 'count'"
     ]
    }
   ],
   "source": [
    "find_cursor.count"
   ]
  },
  {
   "cell_type": "code",
   "execution_count": 29,
   "id": "78bfb3f2",
   "metadata": {},
   "outputs": [
    {
     "data": {
      "text/plain": [
       "1"
      ]
     },
     "execution_count": 29,
     "metadata": {},
     "output_type": "execute_result"
    }
   ],
   "source": [
    "my_col.count_documents(find_query_filter)"
   ]
  },
  {
   "cell_type": "code",
   "execution_count": 31,
   "id": "a020ee2e",
   "metadata": {},
   "outputs": [],
   "source": [
    "find_cursor_skip = my_col.find(find_query_filter).skip(1)"
   ]
  },
  {
   "cell_type": "code",
   "execution_count": 32,
   "id": "911c9c62",
   "metadata": {},
   "outputs": [
    {
     "ename": "AttributeError",
     "evalue": "'Cursor' object has no attribute 'count'",
     "output_type": "error",
     "traceback": [
      "\u001b[1;31m---------------------------------------------------------------------------\u001b[0m",
      "\u001b[1;31mAttributeError\u001b[0m                            Traceback (most recent call last)",
      "\u001b[1;32md:\\python_code\\mongodb_code\\Find_Functionality_(Template).ipynb Cell 38\u001b[0m in \u001b[0;36m<cell line: 1>\u001b[1;34m()\u001b[0m\n\u001b[1;32m----> <a href='vscode-notebook-cell:/d%3A/python_code/mongodb_code/Find_Functionality_%28Template%29.ipynb#X45sZmlsZQ%3D%3D?line=0'>1</a>\u001b[0m find_cursor_skip\u001b[39m.\u001b[39;49mcount()\n",
      "\u001b[1;31mAttributeError\u001b[0m: 'Cursor' object has no attribute 'count'"
     ]
    }
   ],
   "source": [
    "find_cursor_skip.count()"
   ]
  },
  {
   "cell_type": "code",
   "execution_count": 33,
   "id": "bd5e9037",
   "metadata": {},
   "outputs": [
    {
     "ename": "AttributeError",
     "evalue": "'Cursor' object has no attribute 'count'",
     "output_type": "error",
     "traceback": [
      "\u001b[1;31m---------------------------------------------------------------------------\u001b[0m",
      "\u001b[1;31mAttributeError\u001b[0m                            Traceback (most recent call last)",
      "\u001b[1;32md:\\python_code\\mongodb_code\\Find_Functionality_(Template).ipynb Cell 39\u001b[0m in \u001b[0;36m<cell line: 1>\u001b[1;34m()\u001b[0m\n\u001b[1;32m----> <a href='vscode-notebook-cell:/d%3A/python_code/mongodb_code/Find_Functionality_%28Template%29.ipynb#X46sZmlsZQ%3D%3D?line=0'>1</a>\u001b[0m find_cursor_skip\u001b[39m.\u001b[39;49mcount(with_limit_and_skip\u001b[39m=\u001b[39m\u001b[39mTrue\u001b[39;00m)\n",
      "\u001b[1;31mAttributeError\u001b[0m: 'Cursor' object has no attribute 'count'"
     ]
    }
   ],
   "source": [
    "find_cursor_skip.count(with_limit_and_skip=True)"
   ]
  },
  {
   "cell_type": "markdown",
   "id": "ddc18577",
   "metadata": {},
   "source": [
    "### distinct()"
   ]
  },
  {
   "cell_type": "code",
   "execution_count": 34,
   "id": "b02655a6",
   "metadata": {},
   "outputs": [],
   "source": [
    "reply_cursor = my_col.find({})"
   ]
  },
  {
   "cell_type": "code",
   "execution_count": 36,
   "id": "56da82b6",
   "metadata": {},
   "outputs": [
    {
     "data": {
      "text/plain": [
       "['Anand', 'Prachi', 'abc', 'abcd', 'lata', 'pqr', 'xyz']"
      ]
     },
     "execution_count": 36,
     "metadata": {},
     "output_type": "execute_result"
    }
   ],
   "source": [
    "reply_cursor.distinct(\"fname\") # documents with name without duplicate entries"
   ]
  },
  {
   "cell_type": "code",
   "execution_count": 37,
   "id": "14f98341",
   "metadata": {},
   "outputs": [
    {
     "name": "stdout",
     "output_type": "stream",
     "text": [
      "7 unique product names found vs 7 total entries\n"
     ]
    }
   ],
   "source": [
    "distinct_count = len(reply_cursor.distinct(\"fname\"))\n",
    "all_count = my_col.count_documents({})\n",
    "\n",
    "print(\"{} unique product names found vs {} total entries\".format(distinct_count, all_count))"
   ]
  },
  {
   "cell_type": "markdown",
   "id": "3cac701b",
   "metadata": {},
   "source": [
    "### Using projection"
   ]
  },
  {
   "cell_type": "code",
   "execution_count": 38,
   "id": "881d37a0",
   "metadata": {},
   "outputs": [],
   "source": [
    "find_projection_cursor = my_col.find({\"fname\": \"Prachi\"}, {\"salary\": 200000})"
   ]
  },
  {
   "cell_type": "code",
   "execution_count": 39,
   "id": "cd9cbd54",
   "metadata": {},
   "outputs": [
    {
     "name": "stdout",
     "output_type": "stream",
     "text": [
      "{'_id': ObjectId('6361efc6c84fc28f43c94327'), 'salary': 200000}\n"
     ]
    }
   ],
   "source": [
    "for document in find_projection_cursor:\n",
    "    print(document)"
   ]
  },
  {
   "cell_type": "code",
   "execution_count": 41,
   "id": "208e0f55",
   "metadata": {},
   "outputs": [
    {
     "data": {
      "text/plain": [
       "{'salary': 200000}"
      ]
     },
     "execution_count": 41,
     "metadata": {},
     "output_type": "execute_result"
    }
   ],
   "source": [
    "my_col.find_one({\"fname\": \"Prachi\"}, {\"_id\":0,\"salary\":1})"
   ]
  },
  {
   "cell_type": "code",
   "execution_count": null,
   "id": "77b21418",
   "metadata": {},
   "outputs": [],
   "source": []
  }
 ],
 "metadata": {
  "kernelspec": {
   "display_name": "Python 3.9.12 ('base')",
   "language": "python",
   "name": "python3"
  },
  "language_info": {
   "codemirror_mode": {
    "name": "ipython",
    "version": 3
   },
   "file_extension": ".py",
   "mimetype": "text/x-python",
   "name": "python",
   "nbconvert_exporter": "python",
   "pygments_lexer": "ipython3",
   "version": "3.9.12"
  },
  "vscode": {
   "interpreter": {
    "hash": "c616f9fdadd4cb13f7e752bc9076332fcc62bcc471559d4868ab17eef59f504b"
   }
  }
 },
 "nbformat": 4,
 "nbformat_minor": 5
}
