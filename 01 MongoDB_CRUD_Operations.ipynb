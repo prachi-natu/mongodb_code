{
 "cells": [
  {
   "cell_type": "markdown",
   "id": "b690c973",
   "metadata": {},
   "source": [
    "# MongoDB CRUD Operations\n",
    "\n",
    "Go over how to use the CRUD operation of our MongoDB instance within our Python code using the pymongo module. "
   ]
  },
  {
   "cell_type": "markdown",
   "id": "63d82484",
   "metadata": {},
   "source": [
    "### Import MongoClient instance from pymongo module"
   ]
  },
  {
   "cell_type": "code",
   "execution_count": 2,
   "id": "9f859079",
   "metadata": {},
   "outputs": [],
   "source": [
    "from pymongo import MongoClient "
   ]
  },
  {
   "cell_type": "markdown",
   "id": "4091368b",
   "metadata": {},
   "source": [
    "### Initalize A Client To Connect To MongoDB"
   ]
  },
  {
   "cell_type": "code",
   "execution_count": 5,
   "id": "23925406",
   "metadata": {},
   "outputs": [],
   "source": [
    "# either format is acceptable\n",
    "#my_client=MongoClient(\"localhost\",27017)\n",
    "my_client=MongoClient(\"mongodb://localhost:27017\")"
   ]
  },
  {
   "cell_type": "code",
   "execution_count": 6,
   "id": "2ad98224",
   "metadata": {},
   "outputs": [
    {
     "data": {
      "text/plain": [
       "MongoClient(host=['localhost:27017'], document_class=dict, tz_aware=False, connect=True)"
      ]
     },
     "execution_count": 6,
     "metadata": {},
     "output_type": "execute_result"
    }
   ],
   "source": [
    "my_client"
   ]
  },
  {
   "cell_type": "markdown",
   "id": "012432e6",
   "metadata": {},
   "source": [
    "### Connect to specific Database"
   ]
  },
  {
   "cell_type": "code",
   "execution_count": 7,
   "id": "cd4dd97d",
   "metadata": {},
   "outputs": [
    {
     "data": {
      "text/plain": [
       "['admin', 'config', 'employee', 'employee1', 'inventory', 'local', 'students']"
      ]
     },
     "execution_count": 7,
     "metadata": {},
     "output_type": "execute_result"
    }
   ],
   "source": [
    "my_client.list_database_names()"
   ]
  },
  {
   "cell_type": "code",
   "execution_count": 8,
   "id": "5e4867a1",
   "metadata": {},
   "outputs": [],
   "source": [
    "db=my_client.employee\n",
    "# or\n",
    "#db=my_client[\"employee\"]"
   ]
  },
  {
   "cell_type": "code",
   "execution_count": 9,
   "id": "250299f3",
   "metadata": {},
   "outputs": [
    {
     "data": {
      "text/plain": [
       "Database(MongoClient(host=['localhost:27017'], document_class=dict, tz_aware=False, connect=True), 'employee')"
      ]
     },
     "execution_count": 9,
     "metadata": {},
     "output_type": "execute_result"
    }
   ],
   "source": [
    "db"
   ]
  },
  {
   "cell_type": "markdown",
   "id": "e6149743",
   "metadata": {},
   "source": [
    "### Access a specific collection within the database"
   ]
  },
  {
   "cell_type": "code",
   "execution_count": 11,
   "id": "d155fed0",
   "metadata": {},
   "outputs": [
    {
     "data": {
      "text/plain": [
       "['collection']"
      ]
     },
     "execution_count": 11,
     "metadata": {},
     "output_type": "execute_result"
    }
   ],
   "source": [
    "db.list_collection_names()"
   ]
  },
  {
   "cell_type": "code",
   "execution_count": 12,
   "id": "e235d5c9",
   "metadata": {},
   "outputs": [],
   "source": [
    "my_col=db.collection"
   ]
  },
  {
   "cell_type": "code",
   "execution_count": 13,
   "id": "16350c6e",
   "metadata": {},
   "outputs": [
    {
     "data": {
      "text/plain": [
       "Collection(Database(MongoClient(host=['localhost:27017'], document_class=dict, tz_aware=False, connect=True), 'employee'), 'collection')"
      ]
     },
     "execution_count": 13,
     "metadata": {},
     "output_type": "execute_result"
    }
   ],
   "source": [
    "my_col"
   ]
  },
  {
   "cell_type": "markdown",
   "id": "8b1658e2",
   "metadata": {},
   "source": [
    "### C - Create\n",
    "Go over how to create new entries in your Mongo Database"
   ]
  },
  {
   "cell_type": "code",
   "execution_count": 14,
   "id": "80369658",
   "metadata": {},
   "outputs": [
    {
     "data": {
      "text/plain": [
       "<pymongo.results.InsertOneResult at 0x28076a6df40>"
      ]
     },
     "execution_count": 14,
     "metadata": {},
     "output_type": "execute_result"
    }
   ],
   "source": [
    "my_col.insert_one({\"fname\":\"pqr\", \"lname\":\"qqq\", \"salary\":45000})"
   ]
  },
  {
   "cell_type": "code",
   "execution_count": 15,
   "id": "b191a491",
   "metadata": {},
   "outputs": [],
   "source": [
    "new_document={\"fname\":\"pqrs\", \"lname\":\"qrq\", \"salary\":45000}"
   ]
  },
  {
   "cell_type": "code",
   "execution_count": 16,
   "id": "ba95eb51",
   "metadata": {},
   "outputs": [
    {
     "data": {
      "text/plain": [
       "<pymongo.results.InsertOneResult at 0x28076ba07f0>"
      ]
     },
     "execution_count": 16,
     "metadata": {},
     "output_type": "execute_result"
    }
   ],
   "source": [
    "my_col.insert_one(new_document)"
   ]
  },
  {
   "cell_type": "markdown",
   "id": "7a6adcda",
   "metadata": {},
   "source": [
    "### R - Read\n",
    "Go over how to read in entries that are in your Mongo Database"
   ]
  },
  {
   "cell_type": "code",
   "execution_count": 17,
   "id": "cc81de6b",
   "metadata": {},
   "outputs": [
    {
     "data": {
      "text/plain": [
       "{'_id': ObjectId('638f258e9ecc97815ce8f556'),\n",
       " 'fname': 'lata',\n",
       " 'lname': 'Br',\n",
       " 'salary': '40000'}"
      ]
     },
     "execution_count": 17,
     "metadata": {},
     "output_type": "execute_result"
    }
   ],
   "source": [
    "my_col.find_one({\"fname\":\"lata\"})"
   ]
  },
  {
   "cell_type": "code",
   "execution_count": 19,
   "id": "775c5f1f",
   "metadata": {},
   "outputs": [
    {
     "data": {
      "text/plain": [
       "{'_id': ObjectId('639059d94e83670ac3c7c430'),\n",
       " 'fname': 'pqrs',\n",
       " 'lname': 'qrq',\n",
       " 'salary': 45000}"
      ]
     },
     "execution_count": 19,
     "metadata": {},
     "output_type": "execute_result"
    }
   ],
   "source": [
    "my_col.find_one(new_document)"
   ]
  },
  {
   "cell_type": "markdown",
   "id": "f09802a7",
   "metadata": {},
   "source": [
    "### U - Update\n",
    "Go over how to update existing entries that are in your Mongo Database"
   ]
  },
  {
   "cell_type": "code",
   "execution_count": 20,
   "id": "c7689535",
   "metadata": {},
   "outputs": [
    {
     "data": {
      "text/plain": [
       "<pymongo.results.UpdateResult at 0x28076a9bfd0>"
      ]
     },
     "execution_count": 20,
     "metadata": {},
     "output_type": "execute_result"
    }
   ],
   "source": [
    "my_col.update_one({\"fname\":\"qqq\"},{\"$set\":{\"salary\":54000}})"
   ]
  },
  {
   "cell_type": "markdown",
   "id": "91afa8f8",
   "metadata": {},
   "source": [
    "### D - Delete\n",
    "Go over how to delete entries that are in your Mongo Database"
   ]
  },
  {
   "cell_type": "code",
   "execution_count": 22,
   "id": "b182eb7d",
   "metadata": {},
   "outputs": [
    {
     "data": {
      "text/plain": [
       "<pymongo.results.DeleteResult at 0x28076b86400>"
      ]
     },
     "execution_count": 22,
     "metadata": {},
     "output_type": "execute_result"
    }
   ],
   "source": [
    "my_col.delete_one({\"fname\":\"lata\"})"
   ]
  },
  {
   "cell_type": "code",
   "execution_count": 23,
   "id": "b5c1c200",
   "metadata": {},
   "outputs": [
    {
     "data": {
      "text/plain": [
       "<pymongo.results.DeleteResult at 0x28076a9bcd0>"
      ]
     },
     "execution_count": 23,
     "metadata": {},
     "output_type": "execute_result"
    }
   ],
   "source": [
    "my_col.delete_one(new_document)"
   ]
  },
  {
   "cell_type": "code",
   "execution_count": 24,
   "id": "1e4b4937",
   "metadata": {},
   "outputs": [
    {
     "data": {
      "text/plain": [
       "<pymongo.cursor.Cursor at 0x28076be0eb0>"
      ]
     },
     "execution_count": 24,
     "metadata": {},
     "output_type": "execute_result"
    }
   ],
   "source": [
    "my_col.find()"
   ]
  },
  {
   "cell_type": "code",
   "execution_count": null,
   "id": "e57e16f0",
   "metadata": {},
   "outputs": [],
   "source": []
  }
 ],
 "metadata": {
  "kernelspec": {
   "display_name": "Python 3.9.12 ('base')",
   "language": "python",
   "name": "python3"
  },
  "language_info": {
   "codemirror_mode": {
    "name": "ipython",
    "version": 3
   },
   "file_extension": ".py",
   "mimetype": "text/x-python",
   "name": "python",
   "nbconvert_exporter": "python",
   "pygments_lexer": "ipython3",
   "version": "3.9.12"
  },
  "vscode": {
   "interpreter": {
    "hash": "c616f9fdadd4cb13f7e752bc9076332fcc62bcc471559d4868ab17eef59f504b"
   }
  }
 },
 "nbformat": 4,
 "nbformat_minor": 5
}
